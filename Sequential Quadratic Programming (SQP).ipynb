{
 "cells": [
  {
   "cell_type": "code",
   "execution_count": 44,
   "metadata": {
    "id": "loyrg_QdMmb6"
   },
   "outputs": [],
   "source": [
    "import numpy as np\n",
    "import scipy as sp\n",
    "import matplotlib.pyplot as plt\n",
    "np.set_printoptions(precision = 6,suppress=True)\n",
    "from scipy.optimize import LinearConstraint, minimize"
   ]
  },
  {
   "cell_type": "markdown",
   "metadata": {
    "id": "aMkh39mAn9z8"
   },
   "source": [
    "# Checkpoint 1: Function Definition (1 mark)"
   ]
  },
  {
   "cell_type": "markdown",
   "metadata": {
    "id": "oy_iOhQzFk1r"
   },
   "source": [
    "\n",
    "In the following cell, you need to define $f(x)$, $g_1(x)$, and $g_2(x)$:"
   ]
  },
  {
   "cell_type": "code",
   "execution_count": 45,
   "metadata": {
    "id": "MZiSFVDNMwji"
   },
   "outputs": [],
   "source": [
    "def f(x):\n",
    "    # Objective function\n",
    "    return x[0]**2 + (x[1] - 3)**2\n",
    "def g_1(x):\n",
    "    # Constraint 1\n",
    "    return -2 * x[0] + x[1]**2\n",
    "def g_2(x):\n",
    "    # Constraint 2\n",
    "    return 5 * x[0] + (x[1] - 1)**2 - 15"
   ]
  },
  {
   "cell_type": "markdown",
   "metadata": {
    "id": "0zArlQkjFyYD"
   },
   "source": [
    "In the following cell, you need to define $\\nabla f(x)$, $\\nabla g_1(x)$, and $\\nabla g_2(x)$:"
   ]
  },
  {
   "cell_type": "code",
   "execution_count": 46,
   "metadata": {
    "id": "HDlA_HxkV18t"
   },
   "outputs": [],
   "source": [
    "def nablaf(x):\n",
    "    # Gradient of f(x)\n",
    "    return np.array([2 * x[0], 2 * (x[1] - 3)])\n",
    "def nablag_1(x):\n",
    "    # Gradient of g1(x)\n",
    "    return np.array([-2, 2 * x[1]])\n",
    "def nablag_2(x):\n",
    "    # Gradient of g2(x)\n",
    "    return np.array([5, 2 * (x[1] - 1)])"
   ]
  },
  {
   "cell_type": "markdown",
   "metadata": {
    "id": "NJUtTPCUGCb2"
   },
   "source": [
    "In the following cell, you need to define $\\nabla L(x,\\lambda)$, and $\\nabla^2 L(x,\\lambda)$:"
   ]
  },
  {
   "cell_type": "code",
   "execution_count": 47,
   "metadata": {
    "id": "8_-YQmMfUZNV"
   },
   "outputs": [],
   "source": [
    "def nablaL(x, lamb):\n",
    "    # Gradient of the Lagrangian\n",
    "    grad_f = nablaf(x)\n",
    "    grad_g1 = nablag_1(x)\n",
    "    grad_g2 = nablag_2(x)\n",
    "    return grad_f + lamb[0] * grad_g1 + lamb[1] * grad_g2\n",
    "def nabla2L(x, lamb):\n",
    "    # Hessian of the Lagrangian\n",
    "    hessian_f = np.array([[2, 0], [0, 2]])  # ∇²f(x)\n",
    "    hessian_g1 = np.array([[0, 0], [0, 2]])  # ∇²g1(x)\n",
    "    hessian_g2 = np.array([[0, 0], [0, 2]])  # ∇²g2(x)\n",
    "    return hessian_f + lamb[0] * hessian_g1 + lamb[1] * hessian_g2"
   ]
  },
  {
   "cell_type": "markdown",
   "metadata": {
    "id": "Mf_tFpAQm6JR"
   },
   "source": [
    "Print the value of the 8 function define above at point $x_0 = (0,0)$ and $λ_0 = (0,0)$ and $x_0 = (1,1)$ and $λ_0 = (1,1)$"
   ]
  },
  {
   "cell_type": "code",
   "execution_count": 48,
   "metadata": {
    "id": "d2l78OuDjoG1"
   },
   "outputs": [
    {
     "name": "stdout",
     "output_type": "stream",
     "text": [
      "f(x0)  :  9.00\n",
      "g_1(x0):  0.00\n",
      "g_2(x0): -14.00\n",
      "∇f(x0) : [ 0 -6] \n",
      "∇g1(x0): [-2  0] \n",
      "∇g2(x0): [ 5 -2]\n",
      "∇L(x0,λ0) : [ 0 -6]\n",
      "∇L2(x0,λ0):\n",
      " [[2 0]\n",
      " [0 2]]\n",
      "\n",
      "f(x1)  :  5.00\n",
      "g_1(x1): -1.00\n",
      "g_2(x1): -10.00\n",
      "∇f(x1) : [ 2 -4] \n",
      "∇g1(x1): [-2  2] \n",
      "∇g2(x1): [5 0]\n",
      "∇L(x1,λ1) : [ 5 -2]\n",
      "∇L2(x1,λ1):\n",
      " [[2 0]\n",
      " [0 6]]\n"
     ]
    }
   ],
   "source": [
    "#DO NOT MAKE CHANGES TO THIS ENTIRE CELL\n",
    "x0 = [0,0]\n",
    "lamb0 = [0,0]\n",
    "print(\"f(x0)  : {0:5.2f}\\ng_1(x0): {1:5.2f}\\ng_2(x0): {2:5.2f}\".format(f(x0),g_1(x0),g_2(x0)))\n",
    "print(\"∇f(x0) :\",nablaf(x0),\"\\n∇g1(x0):\",nablag_1(x0),\"\\n∇g2(x0):\",nablag_2(x0))\n",
    "print(\"∇L(x0,λ0) :\",nablaL(x0,lamb0))\n",
    "print(\"∇L2(x0,λ0):\\n\", nabla2L(x0,lamb0))\n",
    "print()\n",
    "x1 = [1,1]\n",
    "lamb1 = [1,1]\n",
    "print(\"f(x1)  : {0:5.2f}\\ng_1(x1): {1:5.2f}\\ng_2(x1): {2:5.2f}\".format(f(x1),g_1(x1),g_2(x1)))\n",
    "print(\"∇f(x1) :\",nablaf(x1),\"\\n∇g1(x1):\",nablag_1(x1),\"\\n∇g2(x1):\",nablag_2(x1))\n",
    "print(\"∇L(x1,λ1) :\",nablaL(x1,lamb1))\n",
    "print(\"∇L2(x1,λ1):\\n\", nabla2L(x1,lamb1))"
   ]
  },
  {
   "cell_type": "markdown",
   "metadata": {
    "id": "QiqWU9oVn6_L"
   },
   "source": [
    "# Checkpoint 2: QP subproblem (1 Mark)"
   ]
  },
  {
   "cell_type": "markdown",
   "metadata": {
    "id": "BcjPPlrQGeF5"
   },
   "source": [
    "\n",
    "In the following cell, you need to write a define the quadratic programming (QP) subproblem objective that take in $x,P,Q$ as variables and output\n",
    "\\begin{equation}\n",
    "QP(x) = \\frac{1}{2} x^TPx + q^Tx\n",
    "\\end{equation}"
   ]
  },
  {
   "cell_type": "code",
   "execution_count": 49,
   "metadata": {
    "id": "Ix2OJQr13FUB"
   },
   "outputs": [],
   "source": [
    "def QPSubproblem(x, P, q):\n",
    "    x = np.array(x)\n",
    "    P = np.array(P)\n",
    "    qt = np.transpose(np.array(q))\n",
    "    xt = np.transpose(x)\n",
    "    return 0.5 * np.dot(x.T, np.dot(P,x)) + np.dot(qt,x)"
   ]
  },
  {
   "cell_type": "markdown",
   "metadata": {
    "id": "h7g_5GCJHSrb"
   },
   "source": [
    "In the following cell, you need to find $P$, $q$, $G$, $h_l$, $h_u$, such that:\n",
    "\\begin{equation}\n",
    "  \\begin{array}{rlcrl}\n",
    "     \\displaystyle\\min_{s_k}& \\displaystyle\\frac{1}{2} (s_k)^TPs_k + q^Ts_k &=&\\displaystyle\\min_{s_k}& \\displaystyle\\frac{1}{2} (s_k)^T\\nabla^2L(x_k,\\lambda_k)s_k + (\\nabla f(x_k))^Ts_k\\\\\n",
    "    \\text{s.t.} &H_l \\leq GΔx \\leq H_u &  & \\text{s.t.}& g_1(x_k) + \\nabla g_1(x_k)s_k \\leq 0  \\\\\n",
    "                && && g_2(x_k) + \\nabla g_2(x_k)s_k \\leq 0\n",
    "  \\end{array}\n",
    "\\end{equation}"
   ]
  },
  {
   "cell_type": "code",
   "execution_count": 50,
   "metadata": {
    "id": "5p9cCTSXiSjC"
   },
   "outputs": [],
   "source": [
    "def calcsk(x,lamb):\n",
    "    # Compute the Hessian of the Lagrangian with respect to x and lamb\n",
    "    P = nabla2L(x, lamb)\n",
    "    # Compute the gradient of the objective function\n",
    "    q = nablaf(x)\n",
    "    # Compute the gradient of inequality constraints\n",
    "    G = np.array([nablag_1(x), nablag_2(x)])\n",
    "    # Compute the upper and lower bounds for the constraints\n",
    "    h_u = -np.array([g_1(x), g_2(x)])\n",
    "    h_l = -np.inf * np.ones(G.shape[0])\n",
    "    # Solve the quadratic programming\n",
    "    res = sp.optimize.minimize(QPSubproblem,x, constraints = [sp.optimize.LinearConstraint(G,h_l,h_u)], args = (P,q))\n",
    "    return np.array(res.x)"
   ]
  },
  {
   "cell_type": "markdown",
   "metadata": {
    "id": "M0D57N8roOWt"
   },
   "source": [
    "Print the value of ```calcsk(x,lamb)``` for $x_0 = (0,0),\\lambda_0 = (0,0)$ and $x_1 = (1,1),\\lambda_1 = (1,1)$\n"
   ]
  },
  {
   "cell_type": "code",
   "execution_count": 51,
   "metadata": {
    "id": "aokSro7GoO4m"
   },
   "outputs": [
    {
     "name": "stdout",
     "output_type": "stream",
     "text": [
      "[0. 3.]\n",
      "[-0.125  0.375]\n"
     ]
    }
   ],
   "source": [
    "#DO NOT MAKE CHANGES TO THIS ENTIRE CELL\n",
    "x0 = [0,0]\n",
    "lamb0 = [0,0]\n",
    "print(calcsk(x0,lamb0))\n",
    "\n",
    "x1 = [1,1]\n",
    "lamb1 = [1,1]\n",
    "print(calcsk(x1,lamb1))"
   ]
  },
  {
   "cell_type": "markdown",
   "metadata": {
    "id": "iZrb4PpWoBAY"
   },
   "source": [
    "# Checkpoint 3: SQP Iteration (1 Mark)\n"
   ]
  },
  {
   "cell_type": "markdown",
   "metadata": {
    "id": "69zbRVfLMggK"
   },
   "source": [
    "\n",
    "In the following cell, your task is to write a function to check the KKT condition for optimality. The function take in $x^{(k)}$ and $\\lambda^{(k)}$ and should only return $\\color{red}{\\texttt{True}}$ if all KKT conditions are met, and $\\color{red}{\\texttt{False}}$ otherwise. The function should also use a (```epsilon```) $\\varepsilon$ parameter is used to handle precision.\n",
    "For example, $f(x) \\approx 0 \\Leftrightarrow |f(x)|< \\varepsilon$, $f(x) \\lessapprox 0 \\Leftrightarrow f(x)< \\varepsilon$"
   ]
  },
  {
   "cell_type": "code",
   "execution_count": 54,
   "metadata": {
    "id": "2Vgv8vzYSWso"
   },
   "outputs": [],
   "source": [
    "def checkKKT(x, s, epsilon):\n",
    "    # Compute components of the gradient of the Lagrangian\n",
    "    grad_L = nablaf(x) + lamb[0] * nablag_1(x) + lamb[1] * nablag_2(x)\n",
    "\n",
    "    # KKT Conditions grouped for clarity\n",
    "    kkt_conditions = [\n",
    "        # Stationarity condition\n",
    "        np.all(np.abs(grad_L) < epsilon),\n",
    "\n",
    "        # Primal feasibility condition\n",
    "        g_1(x) <= epsilon,\n",
    "        g_2(x) <= epsilon,\n",
    "\n",
    "        # Dual feasibility condition\n",
    "        lamb[0] >= -epsilon,\n",
    "        lamb[1] >= -epsilon,\n",
    "\n",
    "        # Complementary slackness condition\n",
    "        abs(lamb[0] * g_1(x)) < epsilon,\n",
    "        abs(lamb[1] * g_2(x)) < epsilon\n",
    "    ]\n",
    "\n",
    "    # Return True only if all conditions are satisfied\n",
    "    return all(kkt_conditions)"
   ]
  },
  {
   "cell_type": "markdown",
   "metadata": {
    "id": "ZNJ3j8D7OGZK"
   },
   "source": [
    "In the following cell, you need to:\n",
    "1.   Calculate $s_k$\n",
    "2.   Calculate $\\lambda_{k+1}$\n",
    "3.   Calculate $x_{k+1}$\n",
    "\n",
    "Hint: Use the following equation to calculate $\\lambda_{k+1}$:\n",
    "\n",
    "$\\nabla^2L(x_k,\\lambda_k)s_k + \\nabla\\mathbf{g}(x_k)^T\\lambda_{k+1} + \\nabla f(x_k) = \\mathbf{0}^T$\n",
    "\n",
    "\n"
   ]
  },
  {
   "cell_type": "code",
   "execution_count": 55,
   "metadata": {
    "id": "M-GJT7y0hq-H"
   },
   "outputs": [
    {
     "name": "stdout",
     "output_type": "stream",
     "text": [
      "Maximum number of iterations exceeded\n"
     ]
    }
   ],
   "source": [
    "#define initial point\n",
    "x = np.array([0,0]).reshape(2,)\n",
    "lamb = np.array([0,0]).reshape(2,)\n",
    "\n",
    "#use for plotting\n",
    "x_iter = x\n",
    "itercount = 0\n",
    "\n",
    "while(checkKKT(x,lamb,1e-3) == False):\n",
    "    #calculate s_k\n",
    "    s_k = calcsk(x, lamb)\n",
    "\n",
    "    #calculate lambda_k+1\n",
    "    grad_g = np.array([nablag_1(x), nablag_2(x)])\n",
    "    lambda_update_term = nabla2L(x, lamb) @ s_k + nablaf(x)\n",
    "\n",
    "    lamb = -np.linalg.solve(grad_g.T, lambda_update_term)\n",
    "\n",
    "    #calculate x\n",
    "    x = x + s_k\n",
    "\n",
    "    #store x iterates for plotting\n",
    "    x_iter = np.vstack((x_iter,x))\n",
    "    itercount +=1\n",
    "    if itercount > 100:\n",
    "      print(\"Maximum number of iterations exceeded\")\n",
    "      break\n"
   ]
  },
  {
   "cell_type": "markdown",
   "metadata": {
    "id": "EtXlCo-BsWnS"
   },
   "source": [
    "Print the optimal point and optimal value\n"
   ]
  },
  {
   "cell_type": "code",
   "execution_count": 56,
   "metadata": {
    "id": "JGj887P-sUOl"
   },
   "outputs": [
    {
     "name": "stdout",
     "output_type": "stream",
     "text": [
      "x*   : [1.060437 1.456322]\n",
      "λ*   : [ 1.060034 -0.000161]\n",
      "f(x*): 3.507468\n"
     ]
    }
   ],
   "source": [
    "#DO NOT MAKE CHANGES TO THIS ENTIRE CELL\n",
    "print(\"x*   :\",x)\n",
    "print(\"λ*   :\",lamb)\n",
    "print(\"f(x*): {0:.6f}\".format(float(f(x))))"
   ]
  },
  {
   "cell_type": "markdown",
   "metadata": {
    "id": "nwZqRiOpoEeC"
   },
   "source": [
    "# Checkpoint 4: Visualisation (1 Mark)\n"
   ]
  },
  {
   "cell_type": "markdown",
   "metadata": {
    "id": "ptER8S4KzVbc"
   },
   "source": [
    "In the following cell, we visualize the iterations of the SQP algorithm. Here, you need to plot the contour of the objective function $f$, as well as the constraint $g_1 \\leq 0$ and $g_2 \\leq 0$. The path of the iteration is already plotted."
   ]
  },
  {
   "cell_type": "code",
   "execution_count": 58,
   "metadata": {
    "id": "cy0-cqWHQEVa"
   },
   "outputs": [
    {
     "data": {
      "image/png": "[encoded data removed]",
      "text/plain": [
       "<Figure size 800x600 with 2 Axes>"
      ]
     },
     "metadata": {},
     "output_type": "display_data"
    }
   ],
   "source": [
    "plt.figure(figsize=(8, 6))\n",
    "\n",
    "x1 = np.linspace(-1, 4, 100)\n",
    "x2 = np.linspace(-2, 3, 100)\n",
    "X1, X2 = np.meshgrid(x1, x2)\n",
    "\n",
    "# Objective function and constraints\n",
    "F = X1**2 + (X2 - 3)**2\n",
    "G1 = -2 * X1 + X2**2\n",
    "G2 = 5 * X1 + (X2 - 1)**2 - 15\n",
    "\n",
    "# Contour plot of the objective function\n",
    "contour = plt.contourf(X1, X2, F, levels=50, cmap='viridis', alpha=0.8)\n",
    "cbar = plt.colorbar(contour)\n",
    "\n",
    "# Constraint regions and boundaries\n",
    "contour_g1 = plt.contour(X1, X2, G1, levels=[0], colors='red', linewidths=2, linestyles='dashed')\n",
    "contour_g2 = plt.contour(X1, X2, G2, levels=[0], colors='blue', linewidths=2, linestyles='dashed')\n",
    "plt.contourf(X1, X2, (G1 <= 0) & (G2 <= 0), levels=1, colors=['gray'], alpha=0.3)\n",
    "\n",
    "# Plot the iteration path as a continuous black line\n",
    "plt.plot(x_iter[:, 0], x_iter[:, 1], '-k', label='Iteration Path (Line)')\n",
    "\n",
    "# Plot the iteration path with arrows\n",
    "plt.quiver(\n",
    "    x_iter[:-1, 0], x_iter[:-1, 1],\n",
    "    x_iter[1:, 0] - x_iter[:-1, 0],\n",
    "    x_iter[1:, 1] - x_iter[:-1, 1],\n",
    "    scale_units='xy', angles='xy', scale=1, color='black'\n",
    ")\n",
    "\n",
    "# Add labels to the legend manually\n",
    "plt.legend(\n",
    "    [contour_g1.legend_elements()[0][0], contour_g2.legend_elements()[0][0], plt.Line2D([0], [0], color='black')],\n",
    "    [r'$g_1(x) = 0$', r'$g_2(x) = 0$', 'Iteration Path'],\n",
    "    fontsize=12\n",
    ")\n",
    "\n",
    "# Label axes and title\n",
    "plt.xticks(fontsize=12)\n",
    "plt.yticks(fontsize=12)\n",
    "plt.xlabel(r'$x_1$', fontsize=15)\n",
    "plt.ylabel(r'$x_2$', fontsize=15)\n",
    "plt.title('Contour plot of $f(x_1, x_2)$', fontsize=18)\n",
    "plt.axis('scaled')\n",
    "cbar.set_label('$f(x_1, x_2)$', fontsize=15)\n",
    "\n",
    "# Save and show plot\n",
    "plt.savefig(\"plot.pdf\", dpi=300, transparent=True)\n",
    "plt.show()\n"
   ]
  },
  {
   "cell_type": "code",
   "execution_count": null,
   "metadata": {},
   "outputs": [],
   "source": []
  }
 ],
 "metadata": {
  "colab": {
   "provenance": []
  },
  "kernelspec": {
   "display_name": "Python 3 (ipykernel)",
   "language": "python",
   "name": "python3"
  },
  "language_info": {
   "codemirror_mode": {
    "name": "ipython",
    "version": 3
   },
   "file_extension": ".py",
   "mimetype": "text/x-python",
   "name": "python",
   "nbconvert_exporter": "python",
   "pygments_lexer": "ipython3",
   "version": "3.11.7"
  }
 },
 "nbformat": 4,
 "nbformat_minor": 4
}
