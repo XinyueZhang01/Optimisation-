{
 "cells": [
  {
   "cell_type": "code",
   "execution_count": 60,
   "metadata": {
    "id": "uHIidZmGfvcU"
   },
   "outputs": [],
   "source": [
    "import numpy as np\n",
    "import pandas as pd\n",
    "import matplotlib.pyplot as plt\n",
    "from sklearn.linear_model import LinearRegression"
   ]
  },
  {
   "cell_type": "markdown",
   "metadata": {
    "id": "m5bZH7sYqH7H"
   },
   "source": [
    "## Question 3\n",
    "\n",
    "Construct linear regression models to predict the quality of red and white wine from the chemical components that make them up.\n",
    "\n",
    "**NB: This problem uses the data sets `red_wine_quality_data.csv` and `white_wine_quality_data.csv` posted on Blackboard** from [[Cortez et al., 2019](https://doi.org/10.1016/j.dss.2009.05.016)\\]. Both data sets have $\\mathbf{x} \\in \\mathbb{R}^{11}$ and $y \\in \\mathbb{R}$.\n",
    "\n",
    "We show two ways to use the data files.\n",
    "\n",
    "1. You can create a folder `./data/` in your local root folder (where your notebook file sits) or in your Colab runtime memory (or your local running directory), download the `.zip` data files, extract and upload them to the created folder.  \n",
    "\n",
    "2. Use the following code to download the dataset automatically:"
   ]
  },
  {
   "cell_type": "code",
   "execution_count": 61,
   "metadata": {
    "id": "m5bZH7sYqH7H"
   },
   "outputs": [
    {
     "name": "stdout",
     "output_type": "stream",
     "text": [
      "File already exists.\n",
      "Unzipping completed.\n"
     ]
    },
    {
     "name": "stderr",
     "output_type": "stream",
     "text": [
      "'ls' 不是内部或外部命令，也不是可运行的程序\n",
      "或批处理文件。\n"
     ]
    }
   ],
   "source": [
    "import os\n",
    "import urllib.request\n",
    "import zipfile\n",
    "\n",
    "url = \"https://github.com/HaozheTian/HaozheTian.github.io/raw/main/files/wine_quality.zip\"\n",
    "zip_path = os.path.join(\"data\", \"wine_quality.zip\")\n",
    "extract_dir = \"data\"\n",
    "os.makedirs(extract_dir, exist_ok=True)\n",
    "if not os.path.exists(zip_path):\n",
    "    print(\"Downloading file...\")\n",
    "    urllib.request.urlretrieve(url, zip_path)\n",
    "else:\n",
    "    print(\"File already exists.\")\n",
    " \n",
    "with zipfile.ZipFile(zip_path, 'r') as zip_ref:\n",
    "    zip_ref.extractall(extract_dir)\n",
    " \n",
    "print(\"Unzipping completed.\")\n",
    "!ls data"
   ]
  },
  {
   "cell_type": "markdown",
   "metadata": {
    "id": "m5bZH7sYqH7H"
   },
   "source": [
    "Run the following to read the CSV data into numpy array format."
   ]
  },
  {
   "cell_type": "code",
   "execution_count": 62,
   "metadata": {
    "id": "m5bZH7sYqH7H"
   },
   "outputs": [
    {
     "data": {
      "text/plain": [
       "(array([[ 7.4  ,  0.7  ,  0.   , ...,  0.56 ,  9.4  ,  5.   ],\n",
       "        [ 7.8  ,  0.88 ,  0.   , ...,  0.68 ,  9.8  ,  5.   ],\n",
       "        [ 7.8  ,  0.76 ,  0.04 , ...,  0.65 ,  9.8  ,  5.   ],\n",
       "        ...,\n",
       "        [ 6.3  ,  0.51 ,  0.13 , ...,  0.75 , 11.   ,  6.   ],\n",
       "        [ 5.9  ,  0.645,  0.12 , ...,  0.71 , 10.2  ,  5.   ],\n",
       "        [ 6.   ,  0.31 ,  0.47 , ...,  0.66 , 11.   ,  6.   ]],\n",
       "       dtype=float32),\n",
       " array([[ 7.  ,  0.27,  0.36, ...,  0.45,  8.8 ,  6.  ],\n",
       "        [ 6.3 ,  0.3 ,  0.34, ...,  0.49,  9.5 ,  6.  ],\n",
       "        [ 8.1 ,  0.28,  0.4 , ...,  0.44, 10.1 ,  6.  ],\n",
       "        ...,\n",
       "        [ 6.5 ,  0.24,  0.19, ...,  0.46,  9.4 ,  6.  ],\n",
       "        [ 5.5 ,  0.29,  0.3 , ...,  0.38, 12.8 ,  7.  ],\n",
       "        [ 6.  ,  0.21,  0.38, ...,  0.32, 11.8 ,  6.  ]], dtype=float32))"
      ]
     },
     "execution_count": 62,
     "metadata": {},
     "output_type": "execute_result"
    }
   ],
   "source": [
    "data_red_df = pd.read_csv(os.path.join('data', 'red_wine_quality_data.csv'))\n",
    "data_white_df = pd.read_csv(os.path.join('data', 'white_wine_quality_data.csv'))\n",
    " \n",
    "data_red = data_red_df.values[:, 1:].astype(np.float32)\n",
    "data_white = data_white_df.values[:, 1:].astype(np.float32)\n",
    "data_red, data_white"
   ]
  },
  {
   "cell_type": "markdown",
   "metadata": {
    "id": "MPu8od5Ifc4N"
   },
   "source": [
    "### 3.a\n",
    "\n",
    "1) Set numpy random seed = 1 by calling function `np.random.seed(1)`; 2) shuffle the data sets using shuffled index arrays created by using `np.random.permutation()`; 3) use `np.split()` to split the dataset with $\\text{train}:\\text{test} = 75\\%:25\\%$ (**Note that the split index should be rounded down, i.e. split at** `int(data.shape[0]*0.75)`, and 4) standardize the train and test sets respectively according to the mean and standard deviation of the train set. Show the first 5 samples of the data."
   ]
  },
  {
   "cell_type": "code",
   "execution_count": 63,
   "metadata": {
    "id": "aemowh2NfO_l"
   },
   "outputs": [
    {
     "name": "stdout",
     "output_type": "stream",
     "text": [
      "First 5 samples of the standardized red wine train set:\n",
      "[[ 2.73679793e-01 -6.47397101e-01  1.90278172e+00 -2.32793927e-01\n",
      "   9.29286405e-02 -6.61055803e-01 -1.40008688e-01  9.90108013e-01\n",
      "   1.53518116e+00 -2.86873808e-04  8.49838927e-02 -7.91603684e-01]\n",
      " [ 2.15704307e-01  5.88009834e-01  4.74530049e-02  1.41911924e-01\n",
      "   1.52544096e-01  1.02349825e-01  6.82064652e-01  3.20565671e-01\n",
      "  -3.02617311e-01 -1.73830703e-01 -1.94800079e-01  4.49093223e-01]\n",
      " [ 1.20128357e+00 -1.04048109e+00  1.59356022e+00  8.91323626e-01\n",
      "   1.70254648e+00 -9.47332919e-01 -9.31634903e-01  1.39869392e-01\n",
      "  -7.62066543e-01  2.31104434e-01  8.31074178e-01  4.49093223e-01]\n",
      " [-7.11899817e-01 -3.66622716e-01 -3.64842266e-01 -4.57617491e-01\n",
      "  -2.25020647e-01  1.15203261e+00  2.25357234e-01 -6.04073584e-01\n",
      "   4.19374287e-01 -1.15982868e-01 -8.27772636e-03  4.49093223e-01]\n",
      " [-7.11899817e-01 -7.59706855e-01 -7.77137518e-01 -3.07735205e-01\n",
      "  -4.63482618e-01 -1.83927283e-01 -6.88057601e-01 -2.24076080e+00\n",
      "  -4.00749147e-02 -7.52309620e-01  2.69629931e+00  4.49093223e-01]]\n",
      "\n",
      "First 5 samples of the standardized red wine test set:\n",
      "[[-0.8278502   1.2057134  -1.2409698  -0.15785283 -0.68207264 -0.8519072\n",
      "  -0.9316349  -0.88039166  0.9444607  -0.1738307   1.0175965   0.44909322]\n",
      " [-0.769875    0.4195454  -0.7771375  -0.23279393 -0.10578974 -0.279353\n",
      "  -0.566269   -0.07269027  1.4039099  -0.23167852 -0.19480008  1.6897901 ]\n",
      " [-0.13214692  1.1495585  -1.3955804  -0.00797045 -0.14553332 -0.3747787\n",
      "  -0.6880576   0.66064215  0.48501146 -1.1572446  -0.7543671  -2.0323007 ]\n",
      " [-1.2336771   0.19492584 -0.9317483  -0.6074998  -0.7019445   0.7703298\n",
      "  -0.4444803  -1.44367     1.5351812  -0.34737417  0.8310742  -0.7916037 ]\n",
      " [-1.0017761  -0.14200333 -1.3955804  -0.5325587  -0.52309805  0.48405263\n",
      "  -0.566269   -1.7093458   0.87882507 -0.63661367  1.7636868   0.44909322]]\n",
      "First 5 samples of the standardized white wine train set:\n",
      "[[ 0.39898407 -0.28969157 -0.44412273  1.5826567   0.3854617   1.191299\n",
      "   1.5927536   1.5292459  -0.4522891  -0.9626582  -1.2429649   1.2405351 ]\n",
      " [-1.8340167  -0.388902   -0.02997583 -0.99969476 -0.5663485  -0.6106864\n",
      "  -0.9749046  -1.1321865   2.650456   -0.9626582   0.38254955  2.3628223 ]\n",
      " [ 3.4546704   1.3968849   1.2124645   0.6857332  -0.5230843  -1.8120099\n",
      "  -0.66583467  0.59775054 -2.1026852  -1.7469525  -0.4302077  -1.0040393 ]\n",
      " [ 1.1041428  -0.28969157  0.30134156 -1.0588326  -0.13370742 -1.511679\n",
      "  -1.379073   -0.90595543 -0.7163522  -0.9626582   0.70765215 -1.0040393 ]\n",
      " [ 0.98661596  0.7024123   1.2952939   0.44918177 -0.5663485   0.41043863\n",
      "   1.141036   -0.30049133 -0.32025596 -0.9626582   1.5204093   2.3628223 ]]\n",
      "\n",
      "First 5 samples of the standardized white wine test set:\n",
      "[[-0.77627975 -0.19048126  0.30134156  0.1436364   0.03934885  1.1312327\n",
      "   1.4976552   0.40812412  0.00982296 -0.09122012 -0.8365863   0.11824796]\n",
      " [-0.6587529  -0.09127067 -0.8582695  -0.6842931   0.03934885 -1.3314805\n",
      "  -0.9035808  -0.13414438  0.603965   -0.52693903 -0.59275895 -1.0040393 ]\n",
      " [ 1.5742478   1.0000435   1.2952939   1.424956   -0.1769716   1.3714975\n",
      "   0.66554374  1.5126092  -0.58432066  0.43164304 -0.91786236 -1.0040393 ]\n",
      " [-0.42370036  0.00793963 -0.44412273  2.7654133  -0.22023563  0.29030627\n",
      "   0.1425022   2.0615404  -0.32025596 -0.9626582  -1.4867922  -1.0040393 ]\n",
      " [ 1.1041428  -0.98416424 -0.19563465  1.1489794   0.29893348  0.6507033\n",
      "   0.04740376  1.3296454  -0.8483838   0.3444988  -1.3242409   0.11824796]]\n"
     ]
    }
   ],
   "source": [
    "#random seed\n",
    "np.random.seed(1)\n",
    "\n",
    "shuffled_red = np.random.permutation(data_red.shape[0])\n",
    "shuffled_data_red = data_red[shuffled_red]\n",
    "\n",
    "shuffled_white = np.random.permutation(data_white.shape[0])\n",
    "shuffled_data_white = data_white[shuffled_white]\n",
    "\n",
    "# Split the dataset into  75% train and 25% test\n",
    "split_index_red = int(data_red.shape[0] * 0.75)\n",
    "train_data_red, test_data_red = np.split(shuffled_data_red, [split_index_red])\n",
    "\n",
    "split_index_white = int(data_white.shape[0] * 0.75)\n",
    "train_data_white, test_data_white = np.split(shuffled_data_white, [split_index_white])\n",
    "\n",
    "# Standardize the train and test sets using the mean and std deviation of the train set\n",
    "train_mean_red = np.mean(train_data_red, axis=0)\n",
    "train_std_red = np.std(train_data_red, axis=0)\n",
    "\n",
    "train_mean_white = np.mean(train_data_white, axis=0)\n",
    "train_std_white = np.std(train_data_white, axis=0)\n",
    "\n",
    "train_data_standardised_red = (train_data_red - train_mean_red) / train_std_red\n",
    "test_data_standardised_red = (test_data_red - train_mean_red) / train_std_red\n",
    "\n",
    "train_data_standardised_white = (train_data_white - train_mean_white) / train_std_white\n",
    "test_data_standardised_white = (test_data_white - train_mean_white) / train_std_white\n",
    "\n",
    "# Show the first 5 samples of the standardized train and test sets\n",
    "print(\"First 5 samples of the standardized red wine train set:\")\n",
    "print(train_data_standardised_red[:5])\n",
    "\n",
    "print(\"\\nFirst 5 samples of the standardized red wine test set:\")\n",
    "print(test_data_standardised_red[:5])\n",
    "\n",
    "print(\"First 5 samples of the standardized white wine train set:\")\n",
    "print(train_data_standardised_white[:5])\n",
    "\n",
    "print(\"\\nFirst 5 samples of the standardized white wine test set:\")\n",
    "print(test_data_standardised_white[:5])\n"
   ]
  },
  {
   "cell_type": "markdown",
   "metadata": {
    "id": "Aa8hFT2vypF7"
   },
   "source": [
    "### 3.b\n",
    "\n",
    "Use ```sklearn``` to fit a linear regression model to each training set. Interpret the model by showing which variables matter the most for predicting the quality of red wind. Do the same for white wine."
   ]
  },
  {
   "cell_type": "code",
   "execution_count": 64,
   "metadata": {
    "id": "YdyRJjtRz1lQ"
   },
   "outputs": [
    {
     "name": "stdout",
     "output_type": "stream",
     "text": [
      "\n",
      "Red wine feature importance:\n",
      "alcohol: Coefficient = 0.38422253727912903\n",
      "volatile acidity: Coefficient = -0.2206846922636032\n",
      "sulphates: Coefficient = 0.19233685731887817\n",
      "total sulfur dioxide: Coefficient = -0.12523053586483002\n",
      "chlorides: Coefficient = -0.1059265211224556\n",
      "fixed acidity: Coefficient = 0.06350285559892654\n",
      "residual sugar: Coefficient = 0.05991474166512489\n",
      "density: Coefficient = -0.05047979578375816\n",
      "pH: Coefficient = -0.05019408464431763\n",
      "free sulfur dioxide: Coefficient = 0.04759173095226288\n",
      "citric acid: Coefficient = -0.042795028537511826\n",
      "\n",
      "Top 5 most important features for red wine:\n",
      "Rank 1: alcohol with Coefficient = 0.38422253727912903\n",
      "Rank 2: volatile acidity with Coefficient = -0.2206846922636032\n",
      "Rank 3: sulphates with Coefficient = 0.19233685731887817\n",
      "Rank 4: total sulfur dioxide with Coefficient = -0.12523053586483002\n",
      "Rank 5: chlorides with Coefficient = -0.1059265211224556\n",
      "\n",
      "White wine feature importance:\n",
      "density: coefficient = -0.5057458281517029\n",
      "residual sugar: coefficient = 0.4531208276748657\n",
      "alcohol: coefficient = 0.2739429175853729\n",
      "volatile acidity: coefficient = -0.203776016831398\n",
      "pH: coefficient = 0.12613031268119812\n",
      "free sulfur dioxide: coefficient = 0.10794780403375626\n",
      "sulphates: coefficient = 0.07626333832740784\n",
      "fixed acidity: coefficient = 0.07461664080619812\n",
      "total sulfur dioxide: coefficient = -0.034098733216524124\n",
      "chlorides: coefficient = -0.008059749379754066\n",
      "citric acid: coefficient = 0.0052090720273554325\n",
      "\n",
      "Top 5 most important features for white wine:\n",
      "Rank 1: density with coefficient = -0.5057458281517029\n",
      "Rank 2: residual sugar with coefficient = 0.4531208276748657\n",
      "Rank 3: alcohol with coefficient = 0.2739429175853729\n",
      "Rank 4: volatile acidity with coefficient = -0.203776016831398\n",
      "Rank 5: pH with coefficient = 0.12613031268119812\n"
     ]
    }
   ],
   "source": [
    "\n",
    "# Red wine model\n",
    "X_train_red = train_data_standardised_red[:, :-1]\n",
    "y_train_red = train_data_standardised_red[:, -1]  \n",
    "\n",
    "model_red = LinearRegression()\n",
    "model_red.fit(X_train_red, y_train_red)\n",
    "\n",
    "#Extract feature names\n",
    "feature_names = data_red_df.columns[1:-1]  \n",
    "\n",
    "#Calculate coefficient of red wine\n",
    "coefficients_red = model_red.coef_\n",
    "\n",
    "print(\"\\nRed wine feature importance:\")\n",
    "feature_importance_red = sorted(zip(feature_names, coefficients_red), key=lambda x: abs(x[1]), reverse=True)\n",
    "for feature, coef in feature_importance_red:\n",
    "    print(f\"{feature}: Coefficient = {coef}\")\n",
    "\n",
    "# Rank top 5 most important features for red wine\n",
    "print(\"\\nTop 5 most important features for red wine:\")\n",
    "for i, (feature, coef) in enumerate(feature_importance_red[:5]):\n",
    "    print(f\"Rank {i + 1}: {feature} with Coefficient = {coef}\")\n",
    "\n",
    "# White wine model\n",
    "X_train_white = train_data_standardised_white[:, :-1]\n",
    "y_train_white = train_data_standardised_white[:, -1]  \n",
    "\n",
    "model_white = LinearRegression()\n",
    "model_white.fit(X_train_white, y_train_white)\n",
    "\n",
    "# Calculate coefficient of white wine\n",
    "coefficients_white = model_white.coef_\n",
    "\n",
    "print(\"\\nWhite wine feature importance:\")\n",
    "feature_importance_white = sorted(zip(feature_names, coefficients_white), key=lambda x: abs(x[1]), reverse=True)\n",
    "for feature, coef in feature_importance_white:\n",
    "    print(f\"{feature}: coefficient = {coef}\")\n",
    "\n",
    "# Rank top 5 most important features for white wine\n",
    "print(\"\\nTop 5 most important features for white wine:\")\n",
    "for i, (feature, coef) in enumerate(feature_importance_white[:5]):\n",
    "    print(f\"Rank {i + 1}: {feature} with coefficient = {coef}\")\n",
    "\n"
   ]
  },
  {
   "cell_type": "markdown",
   "metadata": {
    "id": "YdyRJjtRz1lQ"
   },
   "source": [
    "Write your answer to which variables are most important here..."
   ]
  },
  {
   "cell_type": "code",
   "execution_count": 65,
   "metadata": {},
   "outputs": [],
   "source": [
    "# the most important variables of red wine are alcohol, volatile acidity, sulphates, total sulfur dioxide, chlorides. The most important for white wine are density, residual sugar, alcohol, volatle acidity, and pH."
   ]
  },
  {
   "cell_type": "markdown",
   "metadata": {
    "id": "AbxId2XvqsrX"
   },
   "source": [
    "## Question 4\n",
    "\n",
    "You are provided with the following dataset:\n",
    "\n",
    "\\begin{array}{c|c}\n",
    "    x & y \\\\\n",
    "    \\hline\n",
    "    2 & 0.2 \\\\\n",
    "    2.5 & 0.46 \\\\\n",
    "    3 & 1.28 \\\\\n",
    "    3.5 & 1.31 \\\\\n",
    "    4 & 2.71 \\\\\n",
    "    4.5 & 7 \\\\\n",
    "    5 & 8.64 \\\\\n",
    "    5.5 & 14.76 \\\\\n",
    "    6 & 26.85 \\\\\n",
    "\\end{array}"
   ]
  },
  {
   "cell_type": "markdown",
   "metadata": {
    "id": "1gm1iN2pwx38"
   },
   "source": [
    "### 4.a\n",
    "\n",
    "Plot this dataset, and you will see that a linear regression model will not be a good model for this case. Then plot the dataset set of $(x, \\ln(y))$, and you can see that it is close to a linear relationship."
   ]
  },
  {
   "cell_type": "code",
   "execution_count": 66,
   "metadata": {
    "id": "hV-TMnr1qrsM"
   },
   "outputs": [
    {
     "data": {
      "image/png": "[encoded data removed]",
      "text/plain": [
       "<Figure size 1400x600 with 2 Axes>"
      ]
     },
     "metadata": {},
     "output_type": "display_data"
    }
   ],
   "source": [
    "# Import numpy as np\n",
    "import matplotlib.pyplot as plt\n",
    "\n",
    "# Dataset constructed from the picture  \n",
    "x = np.array([2, 2.5, 3, 3.5, 4, 4.5, 5, 5.5, 6])\n",
    "y = np.array([0.2, 0.46, 1.28, 1.31, 2.71, 7, 8.64, 14.76, 26.85])\n",
    "\n",
    "# Plotting the original dataset\n",
    "plt.figure(figsize=(14, 6))\n",
    "\n",
    "plt.subplot(1, 2, 1)\n",
    "plt.scatter(x, y, color='green')\n",
    "plt.plot(x, y, linestyle='--', color='gray', alpha=0.5)\n",
    "plt.xlabel('x')\n",
    "plt.ylabel('y')\n",
    "plt.title('Original Dataset')\n",
    "plt.grid(True)\n",
    "\n",
    "# From y to ln(y)\n",
    "y_ln = np.log(y)\n",
    "\n",
    "# Plotting the transformed dataset\n",
    "plt.subplot(1, 2, 2)\n",
    "plt.scatter(x, y_ln, color='orange')\n",
    "plt.plot(x, y_ln, linestyle='--', color='gray', alpha=0.5)\n",
    "plt.xlabel('x')\n",
    "plt.ylabel('ln(y)')\n",
    "plt.title('Transformed Dataset (x, ln(y))')\n",
    "plt.grid(True)\n",
    "\n",
    "\n",
    "plt.show()"
   ]
  },
  {
   "cell_type": "markdown",
   "metadata": {
    "id": "BIhXVuWNtSOz"
   },
   "source": [
    "### 4.b\n",
    "\n",
    "Find the linear coefficients $\\mathbf{\\beta}$ that fit the dataset $(x, \\ln(y))$.\n",
    "\n",
    "**Note: obtain the analytical solution for this problem.** You can use `numpy` to calculate matrix inverse."
   ]
  },
  {
   "cell_type": "code",
   "execution_count": 67,
   "metadata": {
    "id": "R-rPnsAItXgN"
   },
   "outputs": [
    {
     "name": "stdout",
     "output_type": "stream",
     "text": [
      "beta0 = -3.7096, beta1 = 1.1833\n"
     ]
    }
   ],
   "source": [
    "# Creating the design matrix X and the transformed y \n",
    "X = np.vstack((np.ones(len(x)), x)).T\n",
    "y_ln = np.log(y)\n",
    "\n",
    "# Calculating the coefficients using matrices\n",
    "X_transpose = X.T\n",
    "beta = np.linalg.inv(X_transpose @ X) @ X_transpose @ y_ln\n",
    "\n",
    "# Printing betas\n",
    "beta_0 = beta[0]\n",
    "beta_1 = beta[1]\n",
    "print(f\"beta0 = {beta_0:.4f}, beta1 = {beta_1:.4f}\")"
   ]
  },
  {
   "cell_type": "markdown",
   "metadata": {
    "id": "NtjqpADCtXo_"
   },
   "source": [
    "### 4. c\n",
    "\n",
    "Convert your linear model into the nonlinear form $y = a \\cdot b^x$ by performing algebraic manipulations in your model from part (b)."
   ]
  },
  {
   "cell_type": "markdown",
   "metadata": {
    "id": "fQrNpCJrvOq3"
   },
   "source": [
    "<font color='red'>Double click to write equation here (change $a$ and $b$ to appropriate values)</font>\n",
    "\n",
    "$$\n",
    "y=0.0245\\cdot 3.2651^x\n",
    "$$"
   ]
  },
  {
   "cell_type": "code",
   "execution_count": 68,
   "metadata": {},
   "outputs": [
    {
     "data": {
      "text/plain": [
       "(0.024486800331617736, 3.2651457201287095)"
      ]
     },
     "execution_count": 68,
     "metadata": {},
     "output_type": "execute_result"
    }
   ],
   "source": [
    "#The linear model is trained for ln(y) = b0+b1x, to convert to exponential form, both sides are exponentiated\n",
    "# so y = e^beta_0 + e^beta_1x, so a  = e^beta_0, b = e^beta_1\n",
    "\n",
    "a = np.exp(beta_0)\n",
    "b = np.exp(beta_1)\n",
    "\n",
    "# Printing a and b\n",
    "a, b"
   ]
  },
  {
   "cell_type": "code",
   "execution_count": null,
   "metadata": {},
   "outputs": [],
   "source": []
  }
 ],
 "metadata": {
  "colab": {
   "provenance": []
  },
  "kernelspec": {
   "display_name": "Python 3 (ipykernel)",
   "language": "python",
   "name": "python3"
  },
  "language_info": {
   "codemirror_mode": {
    "name": "ipython",
    "version": 3
   },
   "file_extension": ".py",
   "mimetype": "text/x-python",
   "name": "python",
   "nbconvert_exporter": "python",
   "pygments_lexer": "ipython3",
   "version": "3.11.7"
  }
 },
 "nbformat": 4,
 "nbformat_minor": 4
}
