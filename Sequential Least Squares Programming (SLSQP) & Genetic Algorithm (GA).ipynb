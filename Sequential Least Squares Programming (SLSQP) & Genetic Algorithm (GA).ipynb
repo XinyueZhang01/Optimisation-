{
 "cells": [
  {
   "cell_type": "code",
   "execution_count": 14,
   "metadata": {
    "id": "loyrg_QdMmb6"
   },
   "outputs": [],
   "source": [
    "import time\n",
    "import numpy as np\n",
    "from scipy.optimize import minimize, differential_evolution, LinearConstraint, NonlinearConstraint\n",
    "\n",
    "np.random.seed(1)\n",
    "np.set_printoptions(formatter={'float': lambda x: \"{0:0.4f}\".format(x)})"
   ]
  },
  {
   "cell_type": "markdown",
   "metadata": {
    "id": "R4D-rF5iDeLI"
   },
   "source": [
    "**Note**: you do not need to export additional libraries for this submission."
   ]
  },
  {
   "cell_type": "markdown",
   "metadata": {
    "id": "RimAbS8T7tQf"
   },
   "source": [
    "# Checkpoint 1: Q1a SQP (0.5 mark)\n"
   ]
  },
  {
   "cell_type": "markdown",
   "metadata": {
    "id": "oIWd6h9_7_zv"
   },
   "source": [
    "In the following cell, define $f(x)$, $h_1(x)$, $h_2(x)$, and $h_3(x)$.\n",
    "\n",
    "**Note**: the input vector `x` is a `numpy.array` with shape `(5,)`."
   ]
  },
  {
   "cell_type": "code",
   "execution_count": 16,
   "metadata": {
    "id": "MZiSFVDNMwji"
   },
   "outputs": [],
   "source": [
    "def f(x):\n",
    "    return (x[0] - x[1])**2 + (x[1] - x[2])**2 + (x[3] - 1)**2 + (x[4] - 1)**2\n",
    "def h_1(x):\n",
    "    return x[0] + 3 * x[1] \n",
    "def h_2(x):\n",
    "    return x[2] + x[3] - 2 * x[4]  \n",
    "def h_3(x):\n",
    "    return x[1] - x[4] "
   ]
  },
  {
   "cell_type": "code",
   "execution_count": 17,
   "metadata": {
    "id": "2IeM0xAe8w_h"
   },
   "outputs": [
    {
     "name": "stdout",
     "output_type": "stream",
     "text": [
      "Execution time: 0.02 seconds\n",
      "Optimization terminated successfully\n",
      "Number of iterations: 5\n",
      "Optimum point: x* = [-0.2570 0.0857 -0.3712 0.5425 0.0857]\n",
      "Optimum value: f(x*) =  1.3714\n"
     ]
    }
   ],
   "source": [
    "#DO NOT MAKE CHANGES TO THIS ENTIRE CELL\n",
    "cons = ({'type': 'eq', 'fun': h_1},\n",
    "        {'type': 'eq', 'fun': h_2},\n",
    "        {'type': 'eq', 'fun': h_3})\n",
    "\n",
    "start_time = time.time()\n",
    "res = minimize(f, x0 = np.ones(5)*2, method='SLSQP', bounds=[(-10, 10) for _ in range(5)], constraints=cons)\n",
    "end_time = time.time()\n",
    "print(f\"Execution time: {end_time - start_time:.2f} seconds\")\n",
    "print(res.message)\n",
    "print(\"Number of iterations:\", res.nit)\n",
    "print(f'Optimum point: x* = {res.x}')\n",
    "print(f'Optimum value: f(x*) = {res.fun: .4f}')"
   ]
  },
  {
   "cell_type": "markdown",
   "metadata": {
    "id": "_HUZJwpW9dgL"
   },
   "source": [
    "# Checkpoint 2: Q1a GA (1 mark)"
   ]
  },
  {
   "cell_type": "markdown",
   "metadata": {
    "id": "RyMwvC7m-SBU"
   },
   "source": [
    "In the following cell, define $h_1(x)$, $h_2(x)$, and $h_3(x)$ as `scipy.minimize.LinearConstraint`."
   ]
  },
  {
   "cell_type": "code",
   "execution_count": 18,
   "metadata": {
    "id": "rXP-bY0C-MON"
   },
   "outputs": [],
   "source": [
    "A1 = np.array([[1, 3, 0, 0, 0]])  \n",
    "A2 = np.array([[0, 0, 1, 1, -2]]) \n",
    "A3 = np.array([[0, 1, 0, 0, -1]])\n",
    "lc1 = LinearConstraint(A1, -1e-3, 1e-3)\n",
    "lc2 = LinearConstraint(A2, -1e-3, 1e-3)\n",
    "lc3 = LinearConstraint(A3, -1e-3, 1e-3)"
   ]
  },
  {
   "cell_type": "code",
   "execution_count": 19,
   "metadata": {
    "id": "iY9CGqeBcie5"
   },
   "outputs": [
    {
     "name": "stdout",
     "output_type": "stream",
     "text": [
      "Execution time: 7.89 seconds\n",
      "Optimization terminated successfully.\n",
      "Number of iterations: 521\n",
      "Optimum point: x* = [-0.2525 0.0845 -0.3667 0.5385 0.0855]\n",
      "Optimum value: f(x*) =  1.3664\n"
     ]
    }
   ],
   "source": [
    "#DO NOT MAKE CHANGES TO THIS ENTIRE CELL\n",
    "start_time = time.time()\n",
    "res = differential_evolution(f, bounds=[(-10, 10) for _ in range(5)], x0 = np.ones(5)*2, constraints=(lc1, lc2, lc3), polish=False, seed=1)\n",
    "end_time = time.time()\n",
    "print(f\"Execution time: {end_time - start_time:.2f} seconds\")\n",
    "print(res.message)\n",
    "print(\"Number of iterations:\", res.nit)\n",
    "print(f'Optimum point: x* = {res.x}')\n",
    "print(f'Optimum value: f(x*) = {res.fun: .4f}')"
   ]
  },
  {
   "cell_type": "markdown",
   "metadata": {
    "id": "IC6lOsQZ_RlH"
   },
   "source": [
    "# Checkpoint 3: Q1b SQP (0.5 mark)"
   ]
  },
  {
   "cell_type": "markdown",
   "metadata": {
    "id": "Cs398kUy_UWU"
   },
   "source": [
    "In the following cell, define $f(x)$, $h_1(x)$, $g_1(x)$, and $g_2(x)$.\n",
    "\n",
    "**Note**: the shape of function input `x` is `(4,)`."
   ]
  },
  {
   "cell_type": "code",
   "execution_count": 10,
   "metadata": {
    "id": "rRAfUduL__A2"
   },
   "outputs": [],
   "source": [
    "\n",
    "def f(x):\n",
    "    return 24.55 * x[0] + 26.75 * x[1] + 39 * x[2] + 40.5 * x[3]\n",
    "\n",
    "def h_1(x):\n",
    "    return x[0] + x[1] + x[2] + x[3] - 1  \n",
    "\n",
    "def g_1(x):\n",
    "    return 2.3 * x[0] + 5.6 * x[1] + 11.1 * x[2] + 1.3 * x[3] - 5 \n",
    "\n",
    "def g_2(x):\n",
    "    term1 = 12 * x[0] + 11.9 * x[1] + 41.8 * x[2] + 52.1 * x[3] - 21\n",
    "    term2 = -1.645 * (0.28 * x[0]**2 + 0.19 * x[1]**2 + 20.5 * x[2]**2 + 0.62 * x[3]**2)**0.5\n",
    "    return term1 + term2 "
   ]
  },
  {
   "cell_type": "code",
   "execution_count": 11,
   "metadata": {
    "id": "lCTj9Rti2uKa"
   },
   "outputs": [
    {
     "name": "stdout",
     "output_type": "stream",
     "text": [
      "Execution time: 0.01 seconds\n",
      "Optimization terminated successfully\n",
      "Number of iterations: 5\n",
      "Optimum point: x* = [0.6355 0.0000 0.3127 0.0518]\n",
      "Optimum value: f(x*) =  29.8944\n"
     ]
    }
   ],
   "source": [
    "#DO NOT MAKE CHANGES TO THIS ENTIRE CELL\n",
    "cons = ({'type': 'ineq', 'fun': g_1},\n",
    "        {'type': 'ineq', 'fun': g_2},\n",
    "        {'type': 'eq', 'fun': h_1})\n",
    "\n",
    "start_time = time.time()\n",
    "res = minimize(f, x0=np.ones(4), method='SLSQP', bounds=[(0, None) for _ in range(4)], constraints=cons)\n",
    "end_time = time.time()\n",
    "print(f\"Execution time: {end_time - start_time:.2f} seconds\")\n",
    "print(res.message)\n",
    "print(\"Number of iterations:\", res.nit)\n",
    "print(f'Optimum point: x* = {res.x}')\n",
    "print(f'Optimum value: f(x*) = {res.fun: .4f}')"
   ]
  },
  {
   "cell_type": "markdown",
   "metadata": {
    "id": "Uq8qtwosADgb"
   },
   "source": [
    "# Checkpoint 4: Q1b GA (1 mark)"
   ]
  },
  {
   "cell_type": "markdown",
   "metadata": {
    "id": "mudvQf-zAXKl"
   },
   "source": [
    "In the following cell, define $g_1(x)$ and $g_2(x)$ as `scipy.optimize.NonlinearConstraint`. $h_1(x)$ as `scipy.minimize.LinearConstraint`."
   ]
  },
  {
   "cell_type": "code",
   "execution_count": 12,
   "metadata": {
    "id": "r6qAyFBGBDSp"
   },
   "outputs": [],
   "source": [
    "nlc1 = NonlinearConstraint(g_1, 0, np.inf)\n",
    "nlc2 = NonlinearConstraint(g_2, 0, np.inf)\n",
    "\n",
    "A = np.array([[1, 1, 1, 1]])\n",
    "lc = LinearConstraint(A, 1-1e-3, 1+1e-3)\n",
    "# [1-1e-3, 1+1e-3] allows some slack when enforcing equality constraints."
   ]
  },
  {
   "cell_type": "code",
   "execution_count": 13,
   "metadata": {
    "id": "hS0kkekC-7hk"
   },
   "outputs": [
    {
     "name": "stdout",
     "output_type": "stream",
     "text": [
      "Execution time: 4.14 seconds\n",
      "Optimization terminated successfully.\n",
      "Number of iterations: 286\n",
      "Optimum point: x* = [0.5182 0.1370 0.2655 0.0785]\n",
      "Optimum value: f(x*) =  29.9189\n"
     ]
    }
   ],
   "source": [
    "#DO NOT MAKE CHANGES TO THIS ENTIRE CELL\n",
    "start_time = time.time()\n",
    "res = differential_evolution(f, bounds = [(0, 1e6), (0, 1e6), (0, 1e6), (0, 1e6)], x0 = np.ones(4), constraints=(nlc1, nlc2, lc), polish=False, seed=1)\n",
    "end_time = time.time()\n",
    "print(f\"Execution time: {end_time - start_time:.2f} seconds\")\n",
    "print(res.message)\n",
    "print(\"Number of iterations:\", res.nit)\n",
    "print(f'Optimum point: x* = {res.x}')\n",
    "print(f'Optimum value: f(x*) = {res.fun: .4f}')"
   ]
  },
  {
   "cell_type": "code",
   "execution_count": null,
   "metadata": {},
   "outputs": [],
   "source": []
  }
 ],
 "metadata": {
  "colab": {
   "provenance": []
  },
  "kernelspec": {
   "display_name": "Python 3 (ipykernel)",
   "language": "python",
   "name": "python3"
  },
  "language_info": {
   "codemirror_mode": {
    "name": "ipython",
    "version": 3
   },
   "file_extension": ".py",
   "mimetype": "text/x-python",
   "name": "python",
   "nbconvert_exporter": "python",
   "pygments_lexer": "ipython3",
   "version": "3.11.7"
  }
 },
 "nbformat": 4,
 "nbformat_minor": 4
}
